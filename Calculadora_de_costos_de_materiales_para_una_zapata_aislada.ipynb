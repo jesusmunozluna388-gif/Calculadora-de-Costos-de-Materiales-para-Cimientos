{
  "nbformat": 4,
  "nbformat_minor": 0,
  "metadata": {
    "colab": {
      "provenance": [],
      "authorship_tag": "ABX9TyOes4peUfXcWMlsUBWVL/EE",
      "include_colab_link": true
    },
    "kernelspec": {
      "name": "python3",
      "display_name": "Python 3"
    },
    "language_info": {
      "name": "python"
    }
  },
  "cells": [
    {
      "cell_type": "markdown",
      "metadata": {
        "id": "view-in-github",
        "colab_type": "text"
      },
      "source": [
        "<a href=\"https://colab.research.google.com/github/jesusmunozluna388-gif/Calculadora-de-Costos-de-Materiales-para-Cimientos/blob/main/Calculadora_de_costos_de_materiales_para_una_zapata_aislada.ipynb\" target=\"_parent\"><img src=\"https://colab.research.google.com/assets/colab-badge.svg\" alt=\"Open In Colab\"/></a>"
      ]
    },
    {
      "cell_type": "markdown",
      "source": [
        "# **Calculadora de costos de materiales para cimientos (zapata aislada)**\n",
        "\n",
        "## Descripción breve:\n",
        "Herramienta interactiva en Python para estimar la cantidad y el costo de materiales necesarios en la ejecución de una zapata aislada de concreto simple. Usa una base de datos interna de costos unitarios y funciones modulares para calcular volumen, cantidades por material y costo total.\n",
        "\n",
        "## Objetivo:\n",
        "Calcular de forma rápida y confiable el volumen del cimiento y las cantidades de cemento, arena, grava y agua requeridas. Proveer además el costo estimado del suministro de esos materiales según precios unitarios almacenados en un diccionario.\n"
      ],
      "metadata": {
        "id": "1XVBqM7AUcrx"
      }
    },
    {
      "cell_type": "code",
      "execution_count": null,
      "metadata": {
        "colab": {
          "base_uri": "https://localhost:8080/"
        },
        "id": "nut8wpuHRrsq",
        "outputId": "8bf845b8-6685-4bbc-ccc4-8d4750b3414f"
      },
      "outputs": [
        {
          "output_type": "stream",
          "name": "stdout",
          "text": [
            "\n",
            "--- Calculadora de Costo de Cimientos (Zapata Aislada) ---\n",
            "1. Calcular materiales y costos\n",
            "2. Salir\n"
          ]
        }
      ],
      "source": [
        "# Diccionario con los costos unitarios de materiales en pesos colombianos\n",
        "costos = {\n",
        "    'cemento_cop_kg': 700,       # valor aprox. por kg (saco 50kg = 35.000 COP)\n",
        "    'arena_cop_m3': 75000,       # valor por metro cúbico\n",
        "    'grava_cop_m3': 90000,       # valor por metro cúbico\n",
        "    'agua_cop_m3': 5000          # valor por metro cúbico\n",
        "}\n",
        "\n",
        "# Tabla de dosificación de concreto (valores por m³)\n",
        "# Formato: resistencia: {cemento_kg, arena_m3, grava_m3, agua_lts}\n",
        "dosificacion = {\n",
        "    280: {'cemento_kg': 420, 'arena_m3': 0.67, 'grava_m3': 0.67, 'agua_lts': 190},\n",
        "    240: {'cemento_kg': 380, 'arena_m3': 0.60, 'grava_m3': 0.76, 'agua_lts': 180},\n",
        "    226: {'cemento_kg': 350, 'arena_m3': 0.55, 'grava_m3': 0.84, 'agua_lts': 170},\n",
        "    210: {'cemento_kg': 320, 'arena_m3': 0.52, 'grava_m3': 0.90, 'agua_lts': 170},\n",
        "    200: {'cemento_kg': 300, 'arena_m3': 0.48, 'grava_m3': 0.95, 'agua_lts': 158},\n",
        "    189: {'cemento_kg': 280, 'arena_m3': 0.55, 'grava_m3': 0.89, 'agua_lts': 158},\n",
        "    168: {'cemento_kg': 300, 'arena_m3': 0.72, 'grava_m3': 0.72, 'agua_lts': 158},\n",
        "    159: {'cemento_kg': 260, 'arena_m3': 0.63, 'grava_m3': 0.83, 'agua_lts': 163},\n",
        "    140: {'cemento_kg': 230, 'arena_m3': 0.55, 'grava_m3': 0.92, 'agua_lts': 148},\n",
        "    119: {'cemento_kg': 110, 'arena_m3': 0.50, 'grava_m3': 0.90, 'agua_lts': 143},\n",
        "    109: {'cemento_kg': 175, 'arena_m3': 0.55, 'grava_m3': 0.98, 'agua_lts': 133},\n",
        "    99:  {'cemento_kg': 160, 'arena_m3': 0.55, 'grava_m3': 0.93, 'agua_lts': 125},\n",
        "}\n",
        "\n",
        "# Función para calcular volumen del cimiento\n",
        "def calcular_volumen(largo, ancho, altura):\n",
        "    return largo * ancho * altura\n",
        "\n",
        "# Función para calcular materiales según resistencia\n",
        "def calcular_materiales(volumen, resistencia):\n",
        "    if resistencia not in dosificacion:\n",
        "        return None\n",
        "    datos = dosificacion[resistencia]\n",
        "    materiales = {\n",
        "        'cemento_kg': datos['cemento_kg'] * volumen,\n",
        "        'arena_m3': datos['arena_m3'] * volumen,\n",
        "        'grava_m3': datos['grava_m3'] * volumen,\n",
        "        'agua_m3': (datos['agua_lts'] / 1000) * volumen  # conversión litros → m³\n",
        "    }\n",
        "    return materiales\n",
        "\n",
        "# Función para calcular costo total\n",
        "def calcular_costos(materiales, costos):\n",
        "    costo_total = (\n",
        "        materiales['cemento_kg'] * costos['cemento_cop_kg'] +\n",
        "        materiales['arena_m3'] * costos['arena_cop_m3'] +\n",
        "        materiales['grava_m3'] * costos['grava_cop_m3'] +\n",
        "        materiales['agua_m3'] * costos['agua_cop_m3']\n",
        "    )\n",
        "    return costo_total\n",
        "\n",
        "# Programa principal\n",
        "while True:\n",
        "    print(\"\\n--- Calculadora de Costo de Cimientos (Zapata Aislada) ---\")\n",
        "    print(\"1. Calcular materiales y costos\")\n",
        "    print(\"2. Salir\")\n",
        "\n",
        "    opcion = input(\"Seleccione una opción: \")\n",
        "\n",
        "    if opcion == \"1\":\n",
        "        try:\n",
        "            largo = float(input(\"Ingrese el largo del cimiento (m): \"))\n",
        "            ancho = float(input(\"Ingrese el ancho del cimiento (m): \"))\n",
        "            altura = float(input(\"Ingrese la altura del cimiento (m): \"))\n",
        "            resistencia = int(input(\"Ingrese la resistencia requerida (kg/cm²): \"))\n",
        "\n",
        "            if largo <= 0 or ancho <= 0 or altura <= 0:\n",
        "                print(\"⚠️ Error: las dimensiones deben ser mayores que cero.\")\n",
        "                continue\n",
        "\n",
        "            if resistencia not in dosificacion:\n",
        "                print(\"⚠️ Resistencia no disponible en la tabla.\")\n",
        "                continue\n",
        "\n",
        "        except ValueError:\n",
        "            print(\"⚠️ Entrada inválida. Debe ingresar valores numéricos.\")\n",
        "            continue\n",
        "\n",
        "        volumen = calcular_volumen(largo, ancho, altura)\n",
        "        materiales = calcular_materiales(volumen, resistencia)\n",
        "        costo_total = calcular_costos(materiales, costos)\n",
        "\n",
        "        print(\"\\n--- Resultados ---\")\n",
        "        print(f\"Volumen del cimiento: {volumen:.2f} m³\")\n",
        "        print(f\"Cemento requerido: {materiales['cemento_kg']:.2f} kg\")\n",
        "        print(f\"Arena requerida: {materiales['arena_m3']:.2f} m³\")\n",
        "        print(f\"Grava requerida: {materiales['grava_m3']:.2f} m³\")\n",
        "        print(f\"Agua requerida: {materiales['agua_m3']:.2f} m³\")\n",
        "        print(f\"Costo total estimado: ${costo_total:,.0f} COP\")\n",
        "\n",
        "    elif opcion == \"2\":\n",
        "        print(\"Programa finalizado.\")\n",
        "        break\n",
        "    else:\n",
        "        print(\"⚠️ Opción inválida. Intente de nuevo.\")\n"
      ]
    }
  ]
}